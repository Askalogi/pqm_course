{
 "cells": [
  {
   "cell_type": "markdown",
   "metadata": {},
   "source": [
    "# Πεπερασμένο σφαιρικό πηγάδι"
   ]
  },
  {
   "cell_type": "markdown",
   "metadata": {},
   "source": [
    "Θα προσπαθήσουμε να λύσουμε την εξίσωση Schrodinger σε 3 διαστάσεις για σφαιρικά συμμετρικά δυναμικά, $ V (\\vec{r}) = V (r) $, χρησιμοποιώντας σφαιρικές συντεταγμένες και αναζητώντας μια διαχωρίσιμη λύση. (Zettili 6.3.1, 6.3.3)\n",
    "\n",
    "Tο γωνιακό τμήμα της λύσης δεν εξαρτάται από τις λεπτομέρειες των λύσεων και δίνεται από μία από τις *σφαιρικές αρμονικές*.  Το πραγματικό πρόβλημα είναι να λύσουμε την *ακτινική εξίσωση*, η οποία όταν αλλάζουμε μεταβλητές σε $u(r) =rR(r)$ δίνεται από:\n",
    "$$-\\frac{\\hbar^2}{2m} \\frac{d^2u}{dr^2}+\\left[ V(r)+\\frac{\\hbar^2}{2m}\\frac{l(l+1)}{r^2}\\right]u=Eu$$ (Zettili  6.55)"
   ]
  },
  {
   "cell_type": "markdown",
   "metadata": {},
   "source": [
    "Όπου $k=\\sqrt{(E-V)/2m}/ \\hbar$. Η γενική λύση όταν V(R)=V είναι σταθερή, ειναι της μορφής (Zetilli 6.65):\n",
    "$$ u(r)=Arj_l(kr)+Brn_l(kr)$$\n",
    "όπου $ j_l (x) $ είναι η σφαιρική συνάρτηση Bessel (του πρώτου είδους) της βαθμού $l$ και $n_l(x)$ είναι η σφαιρική συνάρτηση Neumann (ή η συνάρτηση Bessel δευτέρου τύπου) βαθμού $l$. Για ($ E <V $), πρέπει να χρησιμοποιήσουμε συναρτήσεις Hankel, οι οποίες είναι απλώς γραμμικοί συνδυασμοί των συναρτήσεων Bessel και Neumann. Δείτε την πρώτη αναφορά για περισσότερα σχετικά με τις συναρτήσεις Hankel."
   ]
  },
  {
   "cell_type": "markdown",
   "metadata": {},
   "source": [
    "### Αναφορές\n",
    "Περισσότερα για την επιλογή των σωστών ειδικών συναρτήσεων για κάθε περιοχή: 6.3.3 Zettili\n",
    "\n",
    "Πώς να πάρετε τις συναρτήσεις Bessel, Hankel, κλπ. https://docs.scipy.org/doc/scipy/reference/special.html\n",
    "\n",
    "Πώς να χρησιμοποιήσετε το Brentq από το Scipy: https://docs.scipy.org/doc/scipy-0.14.0/reference/generated/scipy.optimize.brentq.html"
   ]
  },
  {
   "cell_type": "markdown",
   "metadata": {},
   "source": [
    "### Πεπερασμένο σφαιρικό πηγάδι\n",
    "Σε αυτό το notebook πρόκειται να βρείτε τις δεσμευμένες λύσεις κατάστασης στο πεπερασμένο σφαιρικό πηγάδι για τυχαίο $L$.  Το δυναμικό δίνεται από $V(r) =-|V| $ για $ r <= A $ και $ V(r) = 0 $ for $ r > a $.  Η εφαρμογή των οριακών συνθηκών κυματομορφής στο $r=a$ θα οδηγήσει σε μια υπερβατική εξίσωση, την οποία πρέπει να λύσουμε αριθμητικά.\n",
    "\n",
    "Θα χρησιμοποιήσουμε τις ακόλουθες παραμέτρους:\n",
    "$$ \\hbar = m = 1 $$\n",
    "$$ a = 2 $$\n",
    "$$ V = -10 $$"
   ]
  },
  {
   "cell_type": "markdown",
   "metadata": {},
   "source": [
    "#### Ερώτηση 1\n",
    "Το πρώτο βήμα είναι να εξαχθεί η υπερβατική εξίσωση που προκύπτει από τις οριακές συνθήκες για το πεπερασμένο σφαιρικό πηγάδι. Δίνεται από τη σχέση Zettili 6.82:"
   ]
  },
  {
   "cell_type": "markdown",
   "metadata": {},
   "source": [
    "$$ k_1\\frac{j_l^\\prime(z=k_1a)}{j_l(z=k_1a)}=ik_2\\frac{h_l^\\prime(z=k_2a)}{h_l(z=k_2a)}$$\n",
    "$$k_1=\\sqrt{2m(E-V)}/\\hbar$$\n",
    "$$k_2=\\sqrt{2m|E|}/\\hbar$$"
   ]
  },
  {
   "cell_type": "markdown",
   "metadata": {},
   "source": [
    "Ας ξεκινήσουμε. Πρώτα θα φορτώσουμε τις βιβλιοθήκες που θα χρειαστούμε."
   ]
  },
  {
   "cell_type": "code",
   "execution_count": null,
   "metadata": {},
   "outputs": [],
   "source": [
    "%matplotlib ipympl\n",
    "import matplotlib\n",
    "import matplotlib.pyplot as plt \n",
    "import numpy\n",
    "import scipy.special    # Περιέχει τις συναρτήσεις Bessel, Neumann και Hankel\n",
    "import scipy.optimize   # Περιέχει τον brentq, τον αλγόριθμο εύρεσης ρίζας που θα χρησιμοποιήσουμε"
   ]
  },
  {
   "cell_type": "code",
   "execution_count": null,
   "metadata": {},
   "outputs": [],
   "source": [
    "hbar=1\n",
    "m=1\n",
    "a=2\n",
    "V=-10"
   ]
  },
  {
   "cell_type": "markdown",
   "metadata": {},
   "source": [
    "#### Ερώτηση 2"
   ]
  },
  {
   "cell_type": "markdown",
   "metadata": {},
   "source": [
    "Κάντε το γράφημα  των $l = 0,1,2$ bessel συναρτήσεων (του πρώτου είδους) *και* των παράγωγων τους για $ x = 0 ... 10 $."
   ]
  },
  {
   "cell_type": "code",
   "execution_count": null,
   "metadata": {},
   "outputs": [],
   "source": [
    "N=100\n",
    "z = numpy.linspace(0, 10, N)\n",
    "colors = ['blue','red','green']\n",
    "for i in [0,1,2]:\n",
    "    plt.plot(z, scipy.special....(...,...),color=colors[i], label=r'$j_'+str(i)+'$')\n",
    "    plt.plot(z, scipy.special....(...,...,...),ls='--',color=colors[i], label=r'$j^\\prime_'+str(i)+'$')\n",
    "plt.xlabel(\"z\")\n",
    "plt.title(\"Spherical Bessel Functions and Derivatives\")\n",
    "plt.legend()\n",
    "plt.show()"
   ]
  },
  {
   "cell_type": "markdown",
   "metadata": {},
   "source": [
    "#### Ερώτηση 3\n",
    "Η υπερβατική εξίσωση που προέκυψε είναι της μορφής:\n",
    "$$f_l(Ε) = g_l(Ε)$$\n",
    "Συνάρτηση της ενέργειας και στις δύο πλευρές, με $l$ ως παράμετρο. Οι ενέργειες, $E$, που ικανοποιούν αυτήν την εξίσωση (για τη δεδομένη γωνιακή ορμή $l$) είναι οι δεσμευμένες ενέργειακές καταστάσεις. Εναλλακτικά, κατασκευάζουμε την:\n",
    "$$ Q_l(E) = f_l(E)- g_l(E) $$\n",
    "Τώρα οι ενέργειες που αναζητούμε είναι οι ρίζες της   $ Q_l (Ε) = 0 $.\n",
    "\n",
    "Γράψτε μια συνάρτηση, που ονομάζεται *boundary_function*, που παίρνει $ Ε $ και $ l $ ως ορίσματα και επιστρέφει την τιμή της $Q_l(Ε)$. \n",
    "\n",
    "Στη συνέχεια, φτιάξτε ένα γράφημα $ Q_{l = 0} (E) $ για $ E =-| V | ...0 $.  Έχει το $ Q_L $ έχει ένα φανταστικό κομμάτι;  Πόσες δεσμευμένες καταστάσεις προκύπτουν για $l = 0$, και ποιες είναι κατά προσέγγιση  οι ενέργειές τους;"
   ]
  },
  {
   "cell_type": "code",
   "execution_count": null,
   "metadata": {},
   "outputs": [],
   "source": [
    "# Συμπληρώστε αυτές τις δύο συναρτήσεις\n",
    "def k1(E):\n",
    "    return Ε\n",
    "\n",
    "def k2(E):\n",
    "    return Ε\n",
    "\n",
    "def hankel(l, z):\n",
    "    return numpy.sqrt(numpy.pi/(2*z))*scipy.special.h1vp(l+0.5,z,0)\n",
    "    \n",
    "def hankel_deriv(l, z):\n",
    "    return numpy.sqrt(numpy.pi/(2*z))*scipy.special.h1vp(l+0.5,z,1) - 0.5*(1./z)*numpy.sqrt(numpy.pi/(2*z))*scipy.special.h1vp(l+0.5,z,0)\n",
    "    \n",
    "# Η Υπερβατική εξίσωση \n",
    "def boundary_function(E, l):\n",
    "#    Βλ. Σκαναρισμένη Σελ. 1    \n",
    "    left = k1(E)*scipy.special.spherical_jn(l, k1(E)*a, 1)/scipy.special.spherical_jn(l, k1(E)*a, 0)\n",
    "    # right = 1J*K2 (E)*Hankel (L, 1J*K2 (E)*A, 1)/Hankel (L, 1J*K2 (E)*A, 0)\n",
    "    right = 1j*k2(E)*hankel_deriv(l, 1j*k2(E)*a)/hankel(l, 1j*k2(E)*a)\n",
    "    \n",
    "    return (left-right).real\n",
    "\n",
    "\n",
    "\n",
    "# Σχεδιάζει την υπερβατική εξίσωση που προκύπτει από τις οριακές συνθήκες\n",
    "\n",
    "plt.figure()\n",
    "energies = numpy.linspace(V, 0, 100)\n",
    "fnc = boundary_function(energies, 0)\n",
    "\n",
    "plt.plot(energies, fnc.real, label=\"real\")\n",
    "plt.plot(energies, fnc.imag, label=\"imag\")\n",
    "plt.xlabel('Energy')\n",
    "plt.ylabel(r'$Q_{l=0}(E)$')\n",
    "plt.title(r'$Q_{l=0}(E)\\; vs\\; E$')\n",
    "plt.legend()\n",
    "plt.show()"
   ]
  },
  {
   "cell_type": "markdown",
   "metadata": {},
   "source": [
    "*Γράψτε την απάντησή σας εδώ*\n",
    "\n",
    "$ Q_ {l = 0} $ δεν φαίνεται να έχει ένα φανταστικό κομμάτι και υπάρχουν τρεις μηδενικές διασταυρώσεις, υποδεικνύοντας ότι υπάρχουν τρεις δεσμευμένες καταστάσεις.  Παρουσιάζονται περίπου στο $ e = -9, -6, -1.4 $."
   ]
  },
  {
   "cell_type": "markdown",
   "metadata": {},
   "source": [
    "#### Ερώτηση 4\n",
    "Θα έπρεπε να έχετε δει ότι η $Q_L(E)$ είναι μια πραγματική συνάρτηση, για να επιστρέψετε μόνο το πραγματικό μέρος. (Σημείωση: Πιθανώς θα δείτε ένα πολύ μικρό φανταστικό μέρος, αυτό οφείλεται σε αριθμητικό σφάλμα και είναι ο λόγος για τον οποίο πρέπει να επιστρέψουμε ρητά το πραγματικό μέρος.)\n",
    "\n",
    "Μπορείτε να μάθετε τις ενέργειες από το γράφημα, αλλά θέλουμε να κάνουμε κάτι καλύτερο από αυτό.  Θα ξεκινήσουμε γράφοντας μια συνάρτηση που παίρνει μια σειρά από ενέργειες και θα επιστρέψει μια λίστα με ζεύγη ενεργειών, $(Ε-δΕ, Ε)$, μεταξύ των οποίων μηδενίζεται το $ Q_L (Ε) $ (ή ισοδύναμα μεταξύ των οποίων αλλάζει πρόσημο η $ Q_l (E)$.  Τα αποτελέσματα σας για $ l = 0 $ φαίνεται να συμφωνούν με την γραφική;"
   ]
  },
  {
   "cell_type": "code",
   "execution_count": null,
   "metadata": {},
   "outputs": [],
   "source": [
    "\n",
    "def acquire_zero_bounds(energy_range, l): \n",
    "    zeros_list=[]  # Μηδενική αρχική λίστα\n",
    "    value = boundary_function(energy_range[0],l)  # Τιμή εκκίνησης της boundary_function\n",
    "    \n",
    "    for i in range(0, len(energy_range)-1):\n",
    "        new_value = boundary_function(energy_range[i+1],l)\n",
    "        if(numpy.sign(new_value)*numpy.sign(value) == -1 and abs(value) < 1):\n",
    "            zeros_list.append((energy_range[i], energy_range[i+1]))\n",
    "        value = new_value\n",
    "    return zeros_list\n",
    "\n",
    "# Σαρώνει τις ενέργειες με βήμα το dE, ξεκινώντας από τη χαμηλότερη δυνατή ενέργεια (V =-| V |) στην υψηλότερη (0)\n",
    "dE = abs(V)/1000\n",
    "energy_range = numpy.arange(V, 0, dE)\n",
    "\n",
    "# Εύρεση λύσεων αυτού του κβαντικού αριθμού γωνιακής ορμής, l\n",
    "l=0\n",
    "\n",
    "energy_bounds = acquire_zero_bounds(energy_range, l)\n",
    "print(energy_bounds)\n"
   ]
  },
  {
   "cell_type": "markdown",
   "metadata": {},
   "source": [
    "#### Ερώτηση 5\n",
    "Τώρα γνωρίζουμε τις σωστές ενέργειες σε ένα μικρό $ΔΕ$. Μπορούμε να χρησιμοποιήσουμε έναν από τους γνωστούς από το μάθημα αλγόριθμους εύρεσης ρίζας, που ονομάζεται *brentq*, για να βρούμε το μηδέν με μεγάλη ακρίβεια.\n",
    "\n",
    "Χρησιμοποιήστε τη μέθοδο brentq της Scipy για να βρείτε τις (αριθμητικά) ακριβείς δεσμευμένες ενέργειες κατάστασης."
   ]
  },
  {
   "cell_type": "code",
   "execution_count": null,
   "metadata": {},
   "outputs": [],
   "source": [
    "def acquire_energies(energy_bounds, l):\n",
    "    energies = []\n",
    "    for energy_bound in energy_bounds:\n",
    "        energies.append( scipy.optimize.brentq() ) # Ποια πρέπει να είναι τα ορίσματα;\n",
    "    return energies\n",
    "\n",
    "energies = acquire_energies(energy_bounds, l)\n",
    "print(energies)"
   ]
  },
  {
   "cell_type": "markdown",
   "metadata": {},
   "source": [
    "#### Ερώτηση 6\n",
    "Τώρα που έχουμε τις σωστές ενέργειες, πρέπει να κατασκευάσουμε τις κυματομορφές.  Γράψτε μια συνάρτηση που λαμβάνει τις ενέργειες, μια λίστα ακτίνων (θέσεις) και την τιμή του $ L $ και επιστρέφει μια λίστα με τις κυματοσυναρτήσεις για τις πιθανές δεσμευμένες καταστάσεις.  Γράψτε επίσης μια συνάρτηση που κανονικοποιεί σωστά την κυματοσυνάρτηση."
   ]
  },
  {
   "cell_type": "code",
   "execution_count": null,
   "metadata": {},
   "outputs": [],
   "source": [
    "dr=0.01\n",
    "max_r = 6\n",
    "space = numpy.arange(0, max_r, dr)\n",
    "inner = space <= a\n",
    "outer = space > a\n",
    "\n",
    "# Κανονικοποιήστε το ακτινικό τμήμα της κυματομορφής - θυμηθείτε το r^2!\n",
    "def normalize(psi, space, dr):\n",
    "    norm = 1 # Αλλάξτε εδώ\n",
    "    return psi / numpy.sqrt(norm)\n",
    "\n",
    "def get_wavefunctions(space, energies, l):\n",
    "    psis=[]\n",
    "    for energy in energies:\n",
    "\n",
    "        psi = numpy.zeros(len(space), complex)\n",
    "        # Υπολογισμός της Υ\n",
    "        A = hankel(l, 1j*k2(energy)*a) / scipy.special.spherical_jn(l, k1(energy)*a, 0)\n",
    "    \n",
    "        psi[inner] = A*scipy.special.spherical_jn(l, k1(energy)*space, 0)[inner]  # Δες Σκαναρισμένη Σελ. 2\n",
    "        psi[outer] = hankel(l, 1j*k2(energy)*space)[outer]\n",
    "        \n",
    "        psis.append(normalize(psi,space,dr))\n",
    "        \n",
    "    return psis\n"
   ]
  },
  {
   "cell_type": "markdown",
   "metadata": {},
   "source": [
    "#### Ερώτηση 7\n",
    "Αυτός ο κώδικας θα κάνει μια γραφική παράσταση της κατανομής ακτινικής πιθανότητας, $ RPD $, για όλες τις δεσμευμένες καταστάσεις για $ l = 0 $. \n",
    "$$ RPD = | R|^2r^2 $$"
   ]
  },
  {
   "cell_type": "code",
   "execution_count": null,
   "metadata": {},
   "outputs": [],
   "source": [
    "# Σχεδιάστε όλες τις bound state κυματοσυναρτήσεις\n",
    "plt.figure()\n",
    "\n",
    "wavefunctions = get_wavefunctions(space, energies, l)\n",
    "for i in range(0,len(wavefunctions)):\n",
    "    plt.plot(space, (numpy.conjugate(wavefunctions[i])*wavefunctions[i]*space*space).real, label=\"E=\"+str(\"%.2f\" % energies[i]))\n",
    "    \n",
    "plt.xlabel('r')\n",
    "plt.ylabel(r'$|R|^2r^2$')\n",
    "plt.title('Bound States of Finite Spherical Well for l='+str(l))\n",
    "plt.legend()\n",
    "plt.show()\n",
    "\n"
   ]
  },
  {
   "cell_type": "code",
   "execution_count": null,
   "metadata": {},
   "outputs": [],
   "source": []
  }
 ],
 "metadata": {
  "anaconda-cloud": {},
  "kernelspec": {
   "display_name": "Python 3 (ipykernel)",
   "language": "python",
   "name": "python3"
  },
  "language_info": {
   "codemirror_mode": {
    "name": "ipython",
    "version": 3
   },
   "file_extension": ".py",
   "mimetype": "text/x-python",
   "name": "python",
   "nbconvert_exporter": "python",
   "pygments_lexer": "ipython3",
   "version": "3.12.3"
  }
 },
 "nbformat": 4,
 "nbformat_minor": 4
}
